{
 "cells": [
  {
   "cell_type": "markdown",
   "metadata": {},
   "source": [
    "# Metodo de Newton\n",
    "\n",
    "Dado $X$ un Banach y $F: X \\to X$ un operador diferenciable Frechet. Queremos encontrar una raiz de $F$. El metodo de Newton es un metodo iterativo que bajo ciertas condiciones converge a una raiz de $F$. La iteracion, es:\n",
    "\\begin{equation}\n",
    "    x_{n+1}=x_n-(DF(x_n))^{-1}(F (x_n))\n",
    "\\end{equation}\n",
    "O de manera implicita\n",
    "\\begin{equation}\n",
    "    DF(x_n)x_{n+1}=DF(x_n)x_{n}-F (x_n)\n",
    "\\end{equation}"
   ]
  },
  {
   "cell_type": "markdown",
   "metadata": {},
   "source": [
    "## Ecuacion Lx=Nx:\n",
    "\n",
    "Si tenemos $Lx=Nx$ con $N(x)(t)=f(x,t)$ con $f$ una funcion buena y $T$-periodica en $t$ y $L$ inversible en $C_T$. Tomamos $F=I-L^{-1}N$.El diferencial de $DF$ es:\n",
    "\n",
    "$$DF(x)y(t)=\\left[y(t)-L^{-1}\\left(\\frac{df}{dx}(x(t),t)y(t)\\right)\\right]$$\n",
    "\n",
    "Entonces la iteracion de manera implicita puede escribirse como\n",
    "\n",
    "$$\\left[ x_{n+1}(t)-L^{-1}\\left(\\frac{df}{dx}(x_n(t),t)x_{n+1}(t)\\right)\\right] =\\left[ x_n(t)-L^{-1}\\left(\\frac{df}{dx}(x_n(t),t)x_n(t)\\right)\\right]-\\left[x_n(t)-L^{-1}\\left(f(x_n(t),t)\\right)\\right]$$"
   ]
  },
  {
   "cell_type": "markdown",
   "metadata": {},
   "source": [
    "Simplifico $x_n$ en el lado derecho y aplico $L$ a ambos lados:\n",
    "\n",
    "$$L\\left(x_{n+1}(t)\\right)-\\frac{df}{dx}(x_n(t),t)x_{n+1}(t)=f(x_n(t),t)-\\frac{df}{dx}(x_n(t),t)x_{n}(t)$$\n",
    "\n",
    "(Es la misma interacion que si hubiera tomado $F=L-N$)"
   ]
  },
  {
   "cell_type": "markdown",
   "metadata": {},
   "source": [
    "Me queda una ecuacion de la forma:\n",
    "$$x′(t)+g(t)x(t)=y(t)$$\n",
    "\n",
    "\n",
    "Con $g(t)$ e $y(t)$ funciones T-periodicas, defino una funcion que halla la solucion T-periodica $x(t)$ del sistema\n",
    "\n",
    "\\begin{equation}\n",
    "x'(t)+g(t)x(t)=y(t)\n",
    "\\end{equation}"
   ]
  },
  {
   "cell_type": "markdown",
   "metadata": {},
   "source": [
    "La solucion es:\n",
    "\n",
    "$$x(t)=e^{-G(t)}\\left[\\dfrac{1}{e^{G(T)}-1} \\int_{0}^{T}e^{G(s)}y(s)ds+\\int_{0}^{t}e^{G(s)}y(s)ds\\right]$$\n",
    "\n",
    "donde $G(t)=\\int_{0}^{t}g(s)ds$.\n",
    "\n",
    "El nucleo de $L$ en $C_T$ es\n",
    "$$Ker(L)=0 \\ \\ si  \\ \\ \\bar{g}\\neq0$$\n",
    "$$Ker(L)=<e^{-G(t)}>  \\ \\ si \\ \\  \\bar{g}=0$$\n"
   ]
  },
  {
   "cell_type": "markdown",
   "metadata": {},
   "source": [
    "### Ejemplo \n",
    "\n",
    "$$x'(t)+x(t)=acos(x+t)$$\n",
    "\n",
    "$f(x,t)=acos(x+t)$ $\\Longrightarrow$ $\\frac{df}{dx}(x,t)=-asen(x+t)$\n",
    "\n",
    "La iteracion es \n",
    "$$x_{n+1}'+x_{n+1}(t)+asen(x_n+t)x_{n+1}=acos(x_n+t)+asen(x_n+t)x_{n}$$\n",
    "$$x_{n+1}'+\\big(1+asen(x_n+t)\\big)x_{n+1}=acos(x_n+t)+asen(x_n+t)x_{n}$$"
   ]
  },
  {
   "cell_type": "markdown",
   "metadata": {},
   "source": [
    "### Implementacion del solver dado por la ecuacion"
   ]
  },
  {
   "cell_type": "code",
   "execution_count": 2,
   "metadata": {},
   "outputs": [],
   "source": [
    "import numpy as np\n",
    "from scipy import integrate\n",
    "import pylab as pl\n",
    "\n",
    "from math import pi \n",
    "import numbers\n"
   ]
  },
  {
   "cell_type": "code",
   "execution_count": 3,
   "metadata": {},
   "outputs": [],
   "source": [
    "class mathf:\n",
    "    def __init__(self, array, intervalo):\n",
    "        self.array = array\n",
    "        self.intervalo = intervalo\n",
    "        self.inicio_intervalo=intervalo[0]\n",
    "        self.fin_intervalo=intervalo[1]\n",
    "        self.ancho_intervalo=intervalo[1]-intervalo[0]\n",
    "        self.paso=(intervalo[1]-intervalo[0])/(len(array)-1)\n",
    "        self.resolucion=len(array)\n",
    "        self.grilla=np.linspace(intervalo[0],intervalo[1],len(array))\n",
    "    \n",
    "    def plot(self):\n",
    "        pl.plot(self.grilla, self.array)\n",
    "        \n",
    "    def __call__(self,x):    \n",
    "        array=self.array\n",
    "        h=self.paso\n",
    "        a=self.inicio_intervalo\n",
    "        b=self.fin_intervalo\n",
    "        L=self.ancho_intervalo\n",
    "        n=self.resolucion\n",
    "        if a<=x<=b:\n",
    "            i=int((x-a)/h)-1\n",
    "            x_0=(i)*h+a\n",
    "            x_1=(i+1)*h+a\n",
    "            t=(x-x_0)/h\n",
    "            f_0=array[i]\n",
    "            f_1=array[i+1]\n",
    "            return float(f_1*t+f_0*(1-t))\n",
    "        else:\n",
    "            print('fuera de rango')\n",
    "        \n",
    "    def der(self):\n",
    "        array=self.array\n",
    "        h=self.paso\n",
    "        n=self.resolucion\n",
    "        der=[]\n",
    "        for i in range(n-1):\n",
    "            f_0=array[i]\n",
    "            f_1=array[i+1]\n",
    "            der.append((f_1-f_0)/h)\n",
    "        intervalo=self.intervalo\n",
    "        return mathf(der,intervalo)\n",
    "    \n",
    "    def __add__(self, other):\n",
    "    \n",
    "        if (type(self)==float or type(self)==int) and (type(other)==float or type(other)==int):\n",
    "            print('numero mas numero')\n",
    "            return mathf(self + other,self.intervalo)\n",
    "        elif (not type(self)==float or type(self)==int) and (type(other)==float or type(other)==int):\n",
    "            return mathf(self.array + other,self.intervalo)\n",
    "        elif (type(self)==float or type(self)==int) and not (type(other)==float or type(other)==int):\n",
    "            print('numero mas funcion')\n",
    "            return mathf(self + other.array,self.intervalo)\n",
    "        elif (not type(self)==float or type(self)==int) and not (type(other)==float or type(other)==int):\n",
    "            print('funcion mas funcion')\n",
    "            return mathf(self.array + other.array,self.intervalo)\n",
    "        \n",
    "    def __mul__(self, other):      \n",
    "        if (type(self)==float or type(self)==int) and (type(other)==float or type(other)==int):\n",
    "            return mathf(self * other,self.intervalo)\n",
    "        elif (not type(self)==float or type(self)==int) and (type(other)==float or type(other)==int):\n",
    "            return mathf(self.array * other,self.intervalo)\n",
    "        elif (type(self)==float or type(self)==int) and not (type(other)==float or type(other)==int):\n",
    "            return mathf(self * other.array,self.intervalo)\n",
    "        elif (not type(self)==float or type(self)==int) and not (type(other)==float or type(other)==int):\n",
    "            return mathf(self.array * other.array,self.intervalo)\n",
    "        \n",
    "    def int_ind(self):\n",
    "        intervalo=self.intervalo\n",
    "        array=self.array\n",
    "        n=self.resolucion\n",
    "        h=self.paso\n",
    "        P=np.zeros(n)\n",
    "        for i in range(n):\n",
    "            P[i]=h*sum(array[:i])\n",
    "        int_ind=mathf(P,intervalo)\n",
    "        return int_ind\n",
    "    \n",
    "    def integral(self):\n",
    "        return float(self.int_ind().array[-1])\n",
    "    \n",
    "    def exp(self):\n",
    "        a=np.exp(self.array)\n",
    "        return mathf(a,self.intervalo)\n",
    "    \n",
    "    def exp_inv(self):\n",
    "        a=np.exp(-self.array)\n",
    "        return mathf(a,self.intervalo)\n",
    "    \n",
    "        "
   ]
  },
  {
   "cell_type": "markdown",
   "metadata": {},
   "source": [
    "   Definimos una funcion que calcular $x(t)$ a partir de $g(t)$ e $y(t)$. Vamos a suponer que el intervalo de definicion de los argumentos es el mismo."
   ]
  },
  {
   "cell_type": "code",
   "execution_count": 4,
   "metadata": {},
   "outputs": [],
   "source": [
    "def solver(g,y):\n",
    "    inter=g.intervalo\n",
    "    T=inter[1]\n",
    "    \n",
    "    G=g.int_ind()\n",
    "    exp_inv_G=G.exp_inv()\n",
    "    \n",
    "    exp_G=G.exp()\n",
    "    arg=exp_G*y\n",
    "    I_ind=arg.int_ind()\n",
    "    I=arg.integral()\n",
    "    exp_G_T=exp_G(T)\n",
    "\n",
    "    d=exp_G_T-1\n",
    "    \n",
    "    c=I/d\n",
    "    x=exp_inv_G*(I_ind+c)\n",
    "    return x"
   ]
  },
  {
   "cell_type": "markdown",
   "metadata": {},
   "source": [
    "## Testeo el solver\n",
    "\n",
    "1) Defino la funcion $g(t)=cos(t)+\\frac{1}{2}$ en el intervalo $[0,2\\pi]$\n"
   ]
  },
  {
   "cell_type": "code",
   "execution_count": 12,
   "metadata": {},
   "outputs": [
    {
     "data": {
      "image/png": "[encoded data removed]",
      "text/plain": [
       "<Figure size 432x288 with 1 Axes>"
      ]
     },
     "metadata": {},
     "output_type": "display_data"
    }
   ],
   "source": [
    "a=1\n",
    "grilla=np.linspace(0,4*pi,1000)\n",
    "array=np.sin(grilla)+a\n",
    "intervalo=[0,4*pi]\n",
    "g=mathf(array, intervalo)\n",
    "g.plot()\n"
   ]
  },
  {
   "cell_type": "markdown",
   "metadata": {},
   "source": [
    "Defino $y(t)=1$"
   ]
  },
  {
   "cell_type": "code",
   "execution_count": 13,
   "metadata": {},
   "outputs": [
    {
     "data": {
      "image/png": "[encoded data removed]",
      "text/plain": [
       "<Figure size 432x288 with 1 Axes>"
      ]
     },
     "metadata": {},
     "output_type": "display_data"
    }
   ],
   "source": [
    "array=np.ones(1000)\n",
    "intervalo=[0,4*pi]\n",
    "y=mathf(array, intervalo)\n",
    "y.plot()"
   ]
  },
  {
   "cell_type": "code",
   "execution_count": 14,
   "metadata": {},
   "outputs": [
    {
     "data": {
      "text/plain": [
       "1.0000000000000004"
      ]
     },
     "execution_count": 14,
     "metadata": {},
     "output_type": "execute_result"
    }
   ],
   "source": [
    "T=4*pi\n",
    "g(T)"
   ]
  },
  {
   "cell_type": "code",
   "execution_count": 15,
   "metadata": {},
   "outputs": [
    {
     "data": {
      "image/png": "[encoded data removed]",
      "text/plain": [
       "<Figure size 432x288 with 1 Axes>"
      ]
     },
     "metadata": {},
     "output_type": "display_data"
    }
   ],
   "source": [
    "x=solver(g,y)\n",
    "x.plot()"
   ]
  },
  {
   "cell_type": "markdown",
   "metadata": {},
   "source": [
    "Apliquemos el Metodo de Newton para la ecuacion\n",
    "$$x'(t)+x(t)=acos(x(t)+t)$$"
   ]
  },
  {
   "cell_type": "markdown",
   "metadata": {},
   "source": [
    "Para $a=0$ la ecuacion es $$x'(t)+x(t)=0$$\n"
   ]
  },
  {
   "cell_type": "markdown",
   "metadata": {},
   "source": [
    "Que tiene un equilibrio en $x(t)=0$"
   ]
  },
  {
   "cell_type": "markdown",
   "metadata": {},
   "source": [
    "Quiero iterar $$x_{n+1}'+\\big(1+asen(x_n+t)\\big)x_{n+1}=acos(x_n+t)+asen(x_n+t)x_{n}$$\n",
    "\n",
    "para $a$ chico, empezando en $x_0(t)=0$ "
   ]
  },
  {
   "cell_type": "code",
   "execution_count": 28,
   "metadata": {},
   "outputs": [
    {
     "data": {
      "image/png": "[encoded data removed]",
      "text/plain": [
       "<Figure size 432x288 with 1 Axes>"
      ]
     },
     "metadata": {},
     "output_type": "display_data"
    }
   ],
   "source": [
    "T=6*pi\n",
    "xs=[0,1,2,3,4,5,6,7,8,9]\n",
    "intervalo=[0,T]\n",
    "x_0=mathf(np.zeros(1000),intervalo)\n",
    "def non_linear_solver(a,x_0,n):\n",
    "    xs=[]\n",
    "    xs.append(x_0)\n",
    "    for i in range(1,n):\n",
    "        grilla=np.linspace(0,T,1000)\n",
    "        #print('grilla: ',grilla)\n",
    "        \n",
    "        array_anterior=xs[i-1].array\n",
    "        arg=array_anterior+grilla\n",
    "        #print('argumento de los senos y cosenos: ',arg)\n",
    "    \n",
    "        g_array=1+a*np.sin(arg)\n",
    "        g=mathf(g_array,intervalo)\n",
    "    \n",
    "        y_array= a*np.cos(arg)+a*np.sin(arg)*array_anterior\n",
    "        y=mathf(y_array,intervalo)\n",
    "        \n",
    "        z=solver(g,y)\n",
    "        \n",
    "    \n",
    "        xs.append(z)\n",
    "        #z.plot()\n",
    "    xs[-1].plot()\n",
    "    xs[-2].plot()\n",
    "\n",
    "    return xs[-1]\n",
    "\n",
    "x=non_linear_solver(3,x_0,6)\n",
    "   \n",
    "    \n",
    "    \n",
    "    "
   ]
  },
  {
   "cell_type": "code",
   "execution_count": null,
   "metadata": {},
   "outputs": [],
   "source": []
  }
 ],
 "metadata": {
  "kernelspec": {
   "display_name": "Python 3",
   "language": "python",
   "name": "python3"
  },
  "language_info": {
   "codemirror_mode": {
    "name": "ipython",
    "version": 3
   },
   "file_extension": ".py",
   "mimetype": "text/x-python",
   "name": "python",
   "nbconvert_exporter": "python",
   "pygments_lexer": "ipython3",
   "version": "3.6.5"
  }
 },
 "nbformat": 4,
 "nbformat_minor": 2
}
